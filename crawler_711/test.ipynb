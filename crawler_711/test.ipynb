{
 "metadata": {
  "language_info": {
   "codemirror_mode": {
    "name": "ipython",
    "version": 3
   },
   "file_extension": ".py",
   "mimetype": "text/x-python",
   "name": "python",
   "nbconvert_exporter": "python",
   "pygments_lexer": "ipython3",
   "version": "3.8.5-final"
  },
  "orig_nbformat": 2,
  "kernelspec": {
   "name": "python3",
   "display_name": "Data"
  }
 },
 "nbformat": 4,
 "nbformat_minor": 2,
 "cells": [
  {
   "cell_type": "code",
   "execution_count": 13,
   "metadata": {},
   "outputs": [],
   "source": [
    "from crawler_711 import crawler_711"
   ]
  },
  {
   "cell_type": "code",
   "execution_count": 14,
   "metadata": {},
   "outputs": [
    {
     "output_type": "stream",
     "name": "stdout",
     "text": [
      "       city\ncityid     \n01      台北市\n02      基隆市\n03      新北市\n04      桃園市\n05      新竹市\n06      新竹縣\n07      苗栗縣\n08      台中市\n10      彰化縣\n11      南投縣\n12      雲林縣\n13      嘉義市\n14      嘉義縣\n15      台南市\n17      高雄市\n19      屏東縣\n20      宜蘭縣\n21      花蓮縣\n22      台東縣\n23      澎湖縣\n24      連江縣\n25      金門縣\n"
     ]
    }
   ],
   "source": [
    "_711 = crawler_711()"
   ]
  },
  {
   "cell_type": "code",
   "execution_count": 7,
   "metadata": {},
   "outputs": [
    {
     "output_type": "execute_result",
     "data": {
      "text/plain": [
       "[{'POIID': '175043',\n",
       "  'POIName': '庫德',\n",
       "  'Lagtitude': 121.546062388991,\n",
       "  'Lontitude': 25.0478159386224,\n",
       "  'Address': '台北市松山區八德路二段366巷7號1樓'},\n",
       " {'POIID': '916527',\n",
       "  'POIName': '清愿',\n",
       "  'Lagtitude': 121.546946,\n",
       "  'Lontitude': 25.048327,\n",
       "  'Address': '台北市松山區八德路二段439號'},\n",
       " {'POIID': '960661',\n",
       "  'POIName': '中崙',\n",
       "  'Lagtitude': 121.552737,\n",
       "  'Lontitude': 25.048396,\n",
       "  'Address': '台北市松山區八德路三段27號'},\n",
       " {'POIID': '201302',\n",
       "  'POIName': '台場',\n",
       "  'Lagtitude': 121.551158,\n",
       "  'Lontitude': 25.048086,\n",
       "  'Address': '台北市松山區八德路三段20-2號'},\n",
       " {'POIID': '990673',\n",
       "  'POIName': '新復勢',\n",
       "  'Lagtitude': 121.556434,\n",
       "  'Lontitude': 25.047914,\n",
       "  'Address': '台北市松山區八德路三段200號202號1樓'},\n",
       " {'POIID': '206879',\n",
       "  'POIName': '德育',\n",
       "  'Lagtitude': 121.55554,\n",
       "  'Lontitude': 25.048158,\n",
       "  'Address': '台北市松山區八德路三段171號173號1樓'},\n",
       " {'POIID': '209694',\n",
       "  'POIName': '吉祥',\n",
       "  'Lagtitude': 121.562671,\n",
       "  'Lontitude': 25.050398,\n",
       "  'Address': '台北市松山區八德路四段245巷52弄31號'},\n",
       " {'POIID': '883223',\n",
       "  'POIName': '松饒',\n",
       "  'Lagtitude': 121.578011,\n",
       "  'Lontitude': 25.051083,\n",
       "  'Address': '台北市松山區慈祐里八德路四段767號769號'},\n",
       " {'POIID': '213903',\n",
       "  'POIName': '松鑽',\n",
       "  'Lagtitude': 121.576641,\n",
       "  'Lontitude': 25.049883,\n",
       "  'Address': '台北市松山區八德路四段686號'},\n",
       " {'POIID': '975906',\n",
       "  'POIName': '威京',\n",
       "  'Lagtitude': 121.562569,\n",
       "  'Lontitude': 25.04878,\n",
       "  'Address': '台北市松山區八德路四段151號'},\n",
       " {'POIID': '185165',\n",
       "  'POIName': '新饒河',\n",
       "  'Lagtitude': 121.57653441126101,\n",
       "  'Lontitude': 25.0504089471678,\n",
       "  'Address': '台北市松山區八德路四段697號1樓'},\n",
       " {'POIID': '164618',\n",
       "  'POIName': '影城',\n",
       "  'Lagtitude': 121.564343,\n",
       "  'Lontitude': 25.050443,\n",
       "  'Address': '台北市松山區八德路四段245巷35號'},\n",
       " {'POIID': '196501',\n",
       "  'POIName': '寶德',\n",
       "  'Lagtitude': 121.566344,\n",
       "  'Lontitude': 25.049187,\n",
       "  'Address': '台北市松山區八德路四段295號297號1樓'}]"
      ]
     },
     "metadata": {},
     "execution_count": 7
    }
   ],
   "source": [
    "_711.get_711_stores(\"松山\", \"八德\")"
   ]
  },
  {
   "cell_type": "code",
   "execution_count": 17,
   "metadata": {},
   "outputs": [
    {
     "output_type": "execute_result",
     "data": {
      "text/plain": [
       "[{'POIID': '985246',\n",
       "  'POIName': '欣安和',\n",
       "  'Lagtitude': 121.551057392316,\n",
       "  'Lontitude': 25.0386879066647,\n",
       "  'Address': '台北市大安區安和路一段47號'},\n",
       " {'POIID': '916712',\n",
       "  'POIName': '敦安',\n",
       "  'Lagtitude': 121.552397,\n",
       "  'Lontitude': 25.0347,\n",
       "  'Address': '台北市大安區安和路一段86號'},\n",
       " {'POIID': '901293',\n",
       "  'POIName': '立仁',\n",
       "  'Lagtitude': 121.551574,\n",
       "  'Lontitude': 25.030018,\n",
       "  'Address': '台北市大安區安和路二段74巷1號'},\n",
       " {'POIID': '151911',\n",
       "  'POIName': '臨江',\n",
       "  'Lagtitude': 121.552532,\n",
       "  'Lontitude': 25.030523,\n",
       "  'Address': '台北市大安區安和路二段67號'}]"
      ]
     },
     "metadata": {},
     "execution_count": 17
    }
   ],
   "source": [
    "_711.get_711_stores('大安', '安和路')"
   ]
  },
  {
   "cell_type": "code",
   "execution_count": 18,
   "metadata": {},
   "outputs": [
    {
     "output_type": "execute_result",
     "data": {
      "text/plain": [
       "[{'POIID': '136129',\n",
       "  'POIName': '江陵',\n",
       "  'Lagtitude': 121.53159537866,\n",
       "  'Lontitude': 25.0531269573998,\n",
       "  'Address': '台北市中山區一江街23號1樓'},\n",
       " {'POIID': '971867',\n",
       "  'POIName': '鑫東一',\n",
       "  'Lagtitude': 121.531597,\n",
       "  'Lontitude': 25.051165,\n",
       "  'Address': '台北市中山區一江街11號13號'}]"
      ]
     },
     "metadata": {},
     "execution_count": 18
    }
   ],
   "source": [
    "_711.get_711_stores('中山', '一江')"
   ]
  },
  {
   "cell_type": "code",
   "execution_count": null,
   "metadata": {},
   "outputs": [],
   "source": []
  }
 ]
}